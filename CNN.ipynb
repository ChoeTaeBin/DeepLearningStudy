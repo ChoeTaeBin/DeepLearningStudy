{
  "nbformat": 4,
  "nbformat_minor": 0,
  "metadata": {
    "colab": {
      "provenance": [],
      "gpuType": "T4",
      "authorship_tag": "ABX9TyPnwx5CGaRZvBe2mNbBW+CJ",
      "include_colab_link": true
    },
    "kernelspec": {
      "name": "python3",
      "display_name": "Python 3"
    },
    "language_info": {
      "name": "python"
    },
    "accelerator": "GPU"
  },
  "cells": [
    {
      "cell_type": "markdown",
      "metadata": {
        "id": "view-in-github",
        "colab_type": "text"
      },
      "source": [
        "<a href=\"https://colab.research.google.com/github/ChoeTaeBin/deep_learning_study/blob/master/CNN.ipynb\" target=\"_parent\"><img src=\"https://colab.research.google.com/assets/colab-badge.svg\" alt=\"Open In Colab\"/></a>"
      ]
    },
    {
      "cell_type": "code",
      "execution_count": 4,
      "metadata": {
        "id": "PTG639vPRZDv"
      },
      "outputs": [],
      "source": [
        "import torch"
      ]
    },
    {
      "cell_type": "code",
      "source": [
        "from torchvision.datasets import CIFAR10\n",
        "from torch.utils.data import DataLoader\n",
        "cifar10_classes = [\"airplane\", \"automobile\", \"bird\", \"cat\", \"deer\", \"dog\", \"frog\", \"horse\", \"ship\", \"truck\"]"
      ],
      "metadata": {
        "id": "IqyGA6wyXXzr"
      },
      "execution_count": 5,
      "outputs": []
    },
    {
      "cell_type": "markdown",
      "source": [
        "데이터 확장  \n",
        "transform 만들기"
      ],
      "metadata": {
        "id": "MgWYT06GZSp2"
      }
    },
    {
      "cell_type": "code",
      "source": [
        "import torchvision.transforms as transforms\n",
        "\n",
        "affine = transforms.RandomAffine((-30, 30), scale = (0.8, 1.2))#회전(-30 ~ 30), 크기 조절(0.8 ~ 1.2)\n",
        "flip = transforms.RandomHorizontalFlip(p=0.5) #좌우 반전\n",
        "normalize = transforms.Normalize((0.0, 0.0, 0.0), (1.0, 1.0, 1.0)) #평균은 0~1\n",
        "to_tensor = transforms.ToTensor()\n",
        "erase = transforms.RandomErasing(p=0.5) #무작위로 구멍을 냄"
      ],
      "metadata": {
        "id": "K0gkFp_fYc1a"
      },
      "execution_count": 6,
      "outputs": []
    },
    {
      "cell_type": "code",
      "source": [
        "transform_train = transforms.Compose([affine, flip, to_tensor, normalize, erase])\n",
        "transform_test = transforms.Compose([to_tensor, normalize])"
      ],
      "metadata": {
        "id": "tP6YQEzHbLPp"
      },
      "execution_count": 7,
      "outputs": []
    },
    {
      "cell_type": "markdown",
      "source": [
        "데이터 가져오기, 확장 시키기"
      ],
      "metadata": {
        "id": "GAW2Gt00c48x"
      }
    },
    {
      "cell_type": "code",
      "source": [
        "cifar10_train = CIFAR10(\"./data\", train=True, download = True, transform = transform_train) #가져오면서 바로 변형 시키는 것\n",
        "cifar10_test = CIFAR10(\"./data\", train=False, download = True, transform = transform_test)"
      ],
      "metadata": {
        "colab": {
          "base_uri": "https://localhost:8080/"
        },
        "id": "Fb1Lnz9_ZzKy",
        "outputId": "358aa644-3db5-4387-fda1-b9da84a320aa"
      },
      "execution_count": 8,
      "outputs": [
        {
          "output_type": "stream",
          "name": "stdout",
          "text": [
            "Downloading https://www.cs.toronto.edu/~kriz/cifar-10-python.tar.gz to ./data/cifar-10-python.tar.gz\n"
          ]
        },
        {
          "output_type": "stream",
          "name": "stderr",
          "text": [
            "100%|██████████| 170498071/170498071 [00:12<00:00, 13541196.72it/s]\n"
          ]
        },
        {
          "output_type": "stream",
          "name": "stdout",
          "text": [
            "Extracting ./data/cifar-10-python.tar.gz to ./data\n",
            "Files already downloaded and verified\n"
          ]
        }
      ]
    },
    {
      "cell_type": "code",
      "source": [
        "#가져온 데이터를 살펴보기 위한 셀임\n",
        "import matplotlib.pyplot as plt\n",
        "\n",
        "temp_loader = DataLoader(cifar10_train, batch_size = 25, shuffle = True)\n",
        "\n",
        "dataiter = iter(temp_loader)\n",
        "images, labels = next(dataiter) #25개 가져옴\n",
        "\n",
        "plt.figure(figsize = (10, 10))\n",
        "for i in range(10):\n",
        "  ax = plt.subplot(5, 5, i+1)\n",
        "  ax.imshow(images[i].permute(1, 2, 0)) #차원 순서를 바꾸어 주는 것 matplotlib과 pytorch tensor의 이미지 차원 구성 방식이 다르기 때문\n",
        "  label = cifar10_classes[labels[i]]\n",
        "  ax.set_title(label)\n",
        "  ax.get_xaxis().set_visible(False)\n",
        "  ax.get_yaxis().set_visible(False)\n",
        "plt.show()\n"
      ],
      "metadata": {
        "colab": {
          "base_uri": "https://localhost:8080/",
          "height": 351
        },
        "id": "90x2c1K6dA12",
        "outputId": "f6ba7c81-4b68-47a0-e3c7-89fdd4529655"
      },
      "execution_count": 9,
      "outputs": [
        {
          "output_type": "display_data",
          "data": {
            "text/plain": [
              "<Figure size 1000x1000 with 10 Axes>"
            ],
            "image/png": "[encoded data removed]"
          },
          "metadata": {}
        }
      ]
    },
    {
      "cell_type": "markdown",
      "source": [
        "이렇게 데이터를 변형시켜서 가져온 것을 볼 수 있다."
      ],
      "metadata": {
        "id": "m42WNESDfrKF"
      }
    },
    {
      "cell_type": "code",
      "source": [
        "images.shape"
      ],
      "metadata": {
        "colab": {
          "base_uri": "https://localhost:8080/"
        },
        "id": "Ugh6ub9lkFaA",
        "outputId": "131cb2c3-794f-4575-ab3e-5acdabc24fb4"
      },
      "execution_count": 10,
      "outputs": [
        {
          "output_type": "execute_result",
          "data": {
            "text/plain": [
              "torch.Size([25, 3, 32, 32])"
            ]
          },
          "metadata": {},
          "execution_count": 10
        }
      ]
    },
    {
      "cell_type": "markdown",
      "source": [
        "(batch_size, channel, height, width)"
      ],
      "metadata": {
        "id": "aE_pKrbikQEI"
      }
    },
    {
      "cell_type": "markdown",
      "source": [
        "Tensor.permute(순서)   \n",
        "차원 순서 바꾸기 연산"
      ],
      "metadata": {
        "id": "0P3dQHLvlcrn"
      }
    },
    {
      "cell_type": "code",
      "source": [
        "images[3]"
      ],
      "metadata": {
        "colab": {
          "base_uri": "https://localhost:8080/"
        },
        "id": "FuJkys5hkt9v",
        "outputId": "4872a229-551c-445c-dc49-3691b60eb9c4"
      },
      "execution_count": 11,
      "outputs": [
        {
          "output_type": "execute_result",
          "data": {
            "text/plain": [
              "tensor([[[0.0000, 0.0000, 0.0000,  ..., 0.6078, 0.0000, 0.0000],\n",
              "         [0.0000, 0.0000, 0.0000,  ..., 0.6471, 0.0000, 0.0000],\n",
              "         [0.9098, 0.9255, 0.9255,  ..., 0.7020, 0.0000, 0.0000],\n",
              "         ...,\n",
              "         [0.0000, 0.0000, 0.6118,  ..., 0.6118, 0.5725, 0.5569],\n",
              "         [0.0000, 0.0000, 0.6863,  ..., 0.0000, 0.0000, 0.0000],\n",
              "         [0.0000, 0.0000, 0.7765,  ..., 0.0000, 0.0000, 0.0000]],\n",
              "\n",
              "        [[0.0000, 0.0000, 0.0000,  ..., 0.8118, 0.0000, 0.0000],\n",
              "         [0.0000, 0.0000, 0.0000,  ..., 0.8353, 0.0000, 0.0000],\n",
              "         [0.9373, 0.9529, 0.9490,  ..., 0.8588, 0.0000, 0.0000],\n",
              "         ...,\n",
              "         [0.0000, 0.0000, 0.6941,  ..., 0.7569, 0.7333, 0.7137],\n",
              "         [0.0000, 0.0000, 0.7412,  ..., 0.0000, 0.0000, 0.0000],\n",
              "         [0.0000, 0.0000, 0.7961,  ..., 0.0000, 0.0000, 0.0000]],\n",
              "\n",
              "        [[0.0000, 0.0000, 0.0000,  ..., 0.5412, 0.0000, 0.0000],\n",
              "         [0.0000, 0.0000, 0.0000,  ..., 0.5804, 0.0000, 0.0000],\n",
              "         [0.9020, 0.8980, 0.8902,  ..., 0.6471, 0.0000, 0.0000],\n",
              "         ...,\n",
              "         [0.0000, 0.0000, 0.7020,  ..., 0.6157, 0.5647, 0.5569],\n",
              "         [0.0000, 0.0000, 0.7843,  ..., 0.0000, 0.0000, 0.0000],\n",
              "         [0.0000, 0.0000, 0.8667,  ..., 0.0000, 0.0000, 0.0000]]])"
            ]
          },
          "metadata": {},
          "execution_count": 11
        }
      ]
    },
    {
      "cell_type": "code",
      "source": [
        "images[3].shape"
      ],
      "metadata": {
        "colab": {
          "base_uri": "https://localhost:8080/"
        },
        "id": "1lrX6M6SkeLH",
        "outputId": "2b6f6c25-84ee-4124-9e1e-8d3e4f6c4af8"
      },
      "execution_count": 12,
      "outputs": [
        {
          "output_type": "execute_result",
          "data": {
            "text/plain": [
              "torch.Size([3, 32, 32])"
            ]
          },
          "metadata": {},
          "execution_count": 12
        }
      ]
    },
    {
      "cell_type": "code",
      "source": [
        "permuted_image = images[3].permute(1, 2, 0)\n",
        "permuted_image"
      ],
      "metadata": {
        "colab": {
          "base_uri": "https://localhost:8080/"
        },
        "id": "q-HYDZlJkz2G",
        "outputId": "b49e0ab8-7e45-45ed-c17a-d5c0c810d69c"
      },
      "execution_count": 13,
      "outputs": [
        {
          "output_type": "execute_result",
          "data": {
            "text/plain": [
              "tensor([[[0.0000, 0.0000, 0.0000],\n",
              "         [0.0000, 0.0000, 0.0000],\n",
              "         [0.0000, 0.0000, 0.0000],\n",
              "         ...,\n",
              "         [0.6078, 0.8118, 0.5412],\n",
              "         [0.0000, 0.0000, 0.0000],\n",
              "         [0.0000, 0.0000, 0.0000]],\n",
              "\n",
              "        [[0.0000, 0.0000, 0.0000],\n",
              "         [0.0000, 0.0000, 0.0000],\n",
              "         [0.0000, 0.0000, 0.0000],\n",
              "         ...,\n",
              "         [0.6471, 0.8353, 0.5804],\n",
              "         [0.0000, 0.0000, 0.0000],\n",
              "         [0.0000, 0.0000, 0.0000]],\n",
              "\n",
              "        [[0.9098, 0.9373, 0.9020],\n",
              "         [0.9255, 0.9529, 0.8980],\n",
              "         [0.9255, 0.9490, 0.8902],\n",
              "         ...,\n",
              "         [0.7020, 0.8588, 0.6471],\n",
              "         [0.0000, 0.0000, 0.0000],\n",
              "         [0.0000, 0.0000, 0.0000]],\n",
              "\n",
              "        ...,\n",
              "\n",
              "        [[0.0000, 0.0000, 0.0000],\n",
              "         [0.0000, 0.0000, 0.0000],\n",
              "         [0.6118, 0.6941, 0.7020],\n",
              "         ...,\n",
              "         [0.6118, 0.7569, 0.6157],\n",
              "         [0.5725, 0.7333, 0.5647],\n",
              "         [0.5569, 0.7137, 0.5569]],\n",
              "\n",
              "        [[0.0000, 0.0000, 0.0000],\n",
              "         [0.0000, 0.0000, 0.0000],\n",
              "         [0.6863, 0.7412, 0.7843],\n",
              "         ...,\n",
              "         [0.0000, 0.0000, 0.0000],\n",
              "         [0.0000, 0.0000, 0.0000],\n",
              "         [0.0000, 0.0000, 0.0000]],\n",
              "\n",
              "        [[0.0000, 0.0000, 0.0000],\n",
              "         [0.0000, 0.0000, 0.0000],\n",
              "         [0.7765, 0.7961, 0.8667],\n",
              "         ...,\n",
              "         [0.0000, 0.0000, 0.0000],\n",
              "         [0.0000, 0.0000, 0.0000],\n",
              "         [0.0000, 0.0000, 0.0000]]])"
            ]
          },
          "metadata": {},
          "execution_count": 13
        }
      ]
    },
    {
      "cell_type": "code",
      "source": [
        "permuted_image.shape"
      ],
      "metadata": {
        "colab": {
          "base_uri": "https://localhost:8080/"
        },
        "id": "mJo9S53vlOtS",
        "outputId": "cfc621df-4b61-40dc-d222-e349e6e07345"
      },
      "execution_count": 14,
      "outputs": [
        {
          "output_type": "execute_result",
          "data": {
            "text/plain": [
              "torch.Size([32, 32, 3])"
            ]
          },
          "metadata": {},
          "execution_count": 14
        }
      ]
    },
    {
      "cell_type": "markdown",
      "source": [
        "DataLoader만들기"
      ],
      "metadata": {
        "id": "v7kiBWrtf1u5"
      }
    },
    {
      "cell_type": "code",
      "source": [
        "batch_size = 64\n",
        "train_loader = DataLoader(cifar10_train, batch_size = batch_size, shuffle = True)\n",
        "test_loader = DataLoader(cifar10_test, batch_size = batch_size, shuffle = False)"
      ],
      "metadata": {
        "id": "WulMyuzAczCf"
      },
      "execution_count": 15,
      "outputs": []
    },
    {
      "cell_type": "markdown",
      "source": [
        "모델 만들기"
      ],
      "metadata": {
        "id": "kw2YL_9cmNzS"
      }
    },
    {
      "cell_type": "code",
      "source": [
        "import torch.nn as nn\n",
        "\n",
        "#(batch_size, 3, 32, 32) 가 들어 올 것 이때 batch_size를 떼고 생각 해도 됨 즉, (3, 32, 32)로 따져보자\n",
        "class Net(nn.Module):\n",
        "  def __init__(self):\n",
        "    super().__init__()\n",
        "    self.relu = nn.ReLU()\n",
        "    self.conv1 = nn.Conv2d(3, 8, 5) #(입력 채널 수, 필터 수, 필터 크기)\n",
        "    #(8, 28, 28)\n",
        "    self.pool = nn.MaxPool2d(2,2) #(영역 크기, stride)\n",
        "    #(8, 14, 14)\n",
        "    self.conv2 = nn.Conv2d(8, 16, 5)\n",
        "    #(16, 10, 10) -> pooling을 한번 더 -> (16, 5, 5)\n",
        "    self.fc1 = nn.Linear(16*5*5, 256) #전 결합 층, input크기는 따져봐야 알 수 있음\n",
        "    self.dropout = nn.Dropout(p=0.5) #절반을 끔\n",
        "    self.fc2 = nn.Linear(256, 10) #class가 10개 이므로\n",
        "\n",
        "  def forward(self, x):\n",
        "    x = self.relu(self.conv1(x))\n",
        "    x = self.pool(x)\n",
        "    x = self.relu(self.conv2(x))\n",
        "    x = self.pool(x)\n",
        "    x = x.view(-1, 16*5*5) #편다\n",
        "    x = self.relu(self.fc1(x))\n",
        "    x = self.dropout(x)\n",
        "    x = self.fc2(x)\n",
        "    return x"
      ],
      "metadata": {
        "id": "mYj7Jil5lv3-"
      },
      "execution_count": 16,
      "outputs": []
    },
    {
      "cell_type": "code",
      "source": [
        "net = Net()\n",
        "net.cuda()\n",
        "print(net)"
      ],
      "metadata": {
        "colab": {
          "base_uri": "https://localhost:8080/"
        },
        "id": "FaY17_0NsNZz",
        "outputId": "67a4e278-51a7-4195-bf85-e27cf76e1c26"
      },
      "execution_count": 17,
      "outputs": [
        {
          "output_type": "stream",
          "name": "stdout",
          "text": [
            "Net(\n",
            "  (relu): ReLU()\n",
            "  (conv1): Conv2d(3, 8, kernel_size=(5, 5), stride=(1, 1))\n",
            "  (pool): MaxPool2d(kernel_size=2, stride=2, padding=0, dilation=1, ceil_mode=False)\n",
            "  (conv2): Conv2d(8, 16, kernel_size=(5, 5), stride=(1, 1))\n",
            "  (fc1): Linear(in_features=400, out_features=256, bias=True)\n",
            "  (dropout): Dropout(p=0.5, inplace=False)\n",
            "  (fc2): Linear(in_features=256, out_features=10, bias=True)\n",
            ")\n"
          ]
        }
      ]
    },
    {
      "cell_type": "markdown",
      "source": [
        "optimizer, loss function 생성"
      ],
      "metadata": {
        "id": "U6RND_6As6I3"
      }
    },
    {
      "cell_type": "code",
      "source": [
        "from torch import optim\n",
        "\n",
        "loss_fnc = nn.CrossEntropyLoss()\n",
        "optimizer = optim.Adam(net.parameters())"
      ],
      "metadata": {
        "id": "nQblGPgos-yy"
      },
      "execution_count": 18,
      "outputs": []
    },
    {
      "cell_type": "markdown",
      "source": [
        "훈련"
      ],
      "metadata": {
        "id": "EYNC8H6ys32w"
      }
    },
    {
      "cell_type": "code",
      "source": [
        "record_loss_train = []\n",
        "record_loss_test = []\n",
        "\n",
        "num_epochs = 20\n",
        "\n",
        "for i in range(num_epochs):\n",
        "  net.train()\n",
        "  loss_train = 0\n",
        "\n",
        "  for j, (x,t) in enumerate(train_loader):\n",
        "    x,t = x.cuda(), t.cuda()\n",
        "    y = net(x)\n",
        "    loss = loss_fnc(y, t)\n",
        "    optimizer.zero_grad()\n",
        "    loss.backward()\n",
        "    optimizer.step()\n",
        "\n",
        "    loss_train += loss.item()\n",
        "  loss_train /= j+1\n",
        "\n",
        "  record_loss_train.append(loss_train)\n",
        "\n",
        "  net.eval()\n",
        "  loss_test = 0\n",
        "\n",
        "  for j, (x,t) in enumerate(test_loader):\n",
        "    x,t = x.cuda(), t.cuda()\n",
        "    y = net(x)\n",
        "    loss = loss_fnc(y, t)\n",
        "    loss_test += loss.item()\n",
        "  loss_test /= j+1\n",
        "\n",
        "  record_loss_test.append(loss_test)\n",
        "\n",
        "  if i%1 == 0:\n",
        "    print(f\"Epoch:{i}, Loss_Train:{loss_train}, Loss_Test{loss_test}\")"
      ],
      "metadata": {
        "colab": {
          "base_uri": "https://localhost:8080/"
        },
        "id": "iQd9a-jutMB1",
        "outputId": "b4f3735a-ad59-40f3-cb2f-a52b3f1fdaa6"
      },
      "execution_count": 19,
      "outputs": [
        {
          "output_type": "stream",
          "name": "stdout",
          "text": [
            "Epoch:0, Loss_Train:1.9420286750854434, Loss_Test1.612551970846334\n",
            "Epoch:1, Loss_Train:1.7408417772758953, Loss_Test1.5158454437924038\n",
            "Epoch:2, Loss_Train:1.6664000269397141, Loss_Test1.4499801701041544\n",
            "Epoch:3, Loss_Train:1.6142795259690346, Loss_Test1.4086225055585242\n",
            "Epoch:4, Loss_Train:1.5777082761840138, Loss_Test1.350935983050401\n",
            "Epoch:5, Loss_Train:1.5553801553633513, Loss_Test1.3268894086218184\n",
            "Epoch:6, Loss_Train:1.5338516383219862, Loss_Test1.303842598845245\n",
            "Epoch:7, Loss_Train:1.5192447600462247, Loss_Test1.2811943603928682\n",
            "Epoch:8, Loss_Train:1.5041245340996081, Loss_Test1.2625828047466885\n",
            "Epoch:9, Loss_Train:1.4939038689484072, Loss_Test1.3284486152563886\n",
            "Epoch:10, Loss_Train:1.4810406872073707, Loss_Test1.2752390097660624\n",
            "Epoch:11, Loss_Train:1.4721429677265685, Loss_Test1.232665798087029\n",
            "Epoch:12, Loss_Train:1.464099914673954, Loss_Test1.2222016601805474\n",
            "Epoch:13, Loss_Train:1.4593386124162113, Loss_Test1.2353130772614935\n",
            "Epoch:14, Loss_Train:1.4473496980374427, Loss_Test1.2132720932079728\n",
            "Epoch:15, Loss_Train:1.4384677617446235, Loss_Test1.1760416433310052\n",
            "Epoch:16, Loss_Train:1.4374129310288393, Loss_Test1.1905393072753956\n",
            "Epoch:17, Loss_Train:1.4281892546302521, Loss_Test1.2048651811423574\n",
            "Epoch:18, Loss_Train:1.4197714426328458, Loss_Test1.1781940057778815\n",
            "Epoch:19, Loss_Train:1.4145285811875483, Loss_Test1.192594664871313\n"
          ]
        }
      ]
    },
    {
      "cell_type": "markdown",
      "source": [
        "오차 추이"
      ],
      "metadata": {
        "id": "Vv4HXbYMvrlA"
      }
    },
    {
      "cell_type": "code",
      "source": [
        "plt.plot(range(len(record_loss_train)), record_loss_train, label = \"Train\")\n",
        "plt.plot(range(len(record_loss_test)),record_loss_test, label = \"Test\")\n",
        "plt.legend()\n",
        "\n",
        "plt.xlabel(\"Epochs\")\n",
        "plt.ylabel(\"Error\")\n",
        "plt.show()"
      ],
      "metadata": {
        "colab": {
          "base_uri": "https://localhost:8080/",
          "height": 449
        },
        "id": "KZ90Z0zOu5s3",
        "outputId": "09e21c06-533c-4fd9-b3e3-8eee900dd80e"
      },
      "execution_count": 20,
      "outputs": [
        {
          "output_type": "display_data",
          "data": {
            "text/plain": [
              "<Figure size 640x480 with 1 Axes>"
            ],
            "image/png": "[encoded data removed]"
          },
          "metadata": {}
        }
      ]
    },
    {
      "cell_type": "markdown",
      "source": [
        "정답률 계산"
      ],
      "metadata": {
        "id": "4zPyCU72vyLy"
      }
    },
    {
      "cell_type": "code",
      "source": [
        "correct = 0\n",
        "total = 0\n",
        "net.eval() #평가모드\n",
        "\n",
        "for i, (x,t) in enumerate(test_loader):\n",
        "  x, t = x.cuda(), t.cuda()\n",
        "  y = net(x)\n",
        "  correct += (y.argmax(axis = 1) == t).sum().item()\n",
        "  total += len(x)\n",
        "\n",
        "print(f\"accuracy:{(correct/total)*100}%\")"
      ],
      "metadata": {
        "colab": {
          "base_uri": "https://localhost:8080/"
        },
        "id": "CZ-1XvD_vvCJ",
        "outputId": "f1c46930-2ed7-4b7f-bf70-405895d5758d"
      },
      "execution_count": 21,
      "outputs": [
        {
          "output_type": "stream",
          "name": "stdout",
          "text": [
            "accuracy:57.21000000000001%\n"
          ]
        }
      ]
    },
    {
      "cell_type": "markdown",
      "source": [
        "모델을 사용해서 예측"
      ],
      "metadata": {
        "id": "2L96irTcwPUm"
      }
    },
    {
      "cell_type": "code",
      "source": [
        "temp = DataLoader(cifar10_test, batch_size = 1, shuffle = True)\n",
        "dataiter = iter(temp)\n",
        "images, labels = next(dataiter)\n",
        "\n",
        "plt.imshow(images[0].permute(1,2,0))\n",
        "plt.tick_params(labelbottom=False, labelleft=False, bottom=False, left=False)\n",
        "plt.show()\n",
        "\n",
        "net.eval()\n",
        "x,t = images.cuda(), labels.cuda()\n",
        "y = net(x)\n",
        "\n",
        "print(f\"정답:{cifar10_classes[labels[0]]}, 예측결과:{cifar10_classes[y.argmax().item()]}\")\n"
      ],
      "metadata": {
        "colab": {
          "base_uri": "https://localhost:8080/",
          "height": 424
        },
        "id": "m70V3_wpwGYo",
        "outputId": "491cd1c5-8ccb-4017-e005-e7fa1e63e734"
      },
      "execution_count": 24,
      "outputs": [
        {
          "output_type": "display_data",
          "data": {
            "text/plain": [
              "<Figure size 640x480 with 1 Axes>"
            ],
            "image/png": "[encoded data removed]"
          },
          "metadata": {}
        },
        {
          "output_type": "stream",
          "name": "stdout",
          "text": [
            "정답:horse, 예측결과:horse\n"
          ]
        }
      ]
    },
    {
      "cell_type": "code",
      "source": [],
      "metadata": {
        "id": "CkIo3U5gxoCR"
      },
      "execution_count": 22,
      "outputs": []
    }
  ]
}