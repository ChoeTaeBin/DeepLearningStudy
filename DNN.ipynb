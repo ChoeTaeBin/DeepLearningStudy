{
  "nbformat": 4,
  "nbformat_minor": 0,
  "metadata": {
    "colab": {
      "provenance": [],
      "gpuType": "T4",
      "authorship_tag": "ABX9TyNXBiDY84eug66vRyMcrIqi",
      "include_colab_link": true
    },
    "kernelspec": {
      "name": "python3",
      "display_name": "Python 3"
    },
    "language_info": {
      "name": "python"
    },
    "accelerator": "GPU"
  },
  "cells": [
    {
      "cell_type": "markdown",
      "metadata": {
        "id": "view-in-github",
        "colab_type": "text"
      },
      "source": [
        "<a href=\"https://colab.research.google.com/github/ChoeTaeBin/deep_learning_study/blob/master/DNN.ipynb\" target=\"_parent\"><img src=\"https://colab.research.google.com/assets/colab-badge.svg\" alt=\"Open In Colab\"/></a>"
      ]
    },
    {
      "cell_type": "code",
      "source": [
        "import torch"
      ],
      "metadata": {
        "id": "vdxc4N_1J9JM"
      },
      "execution_count": 1,
      "outputs": []
    },
    {
      "cell_type": "markdown",
      "source": [
        "batch_size : 한번 파라미터를 갱신할때 몇개의 샘플을 이용할 지   \n",
        "온라인 학습은 batch_size == 1, 배치 학습은 batch_size == 전체 샘플 수 인 미니 배치 학습으로 볼 수 있다.\n",
        "\n",
        "(batch_size, (한 샘플 차원))이 모델에 들어간다. 즉, 맨 왼쪽에 한 차원이 더해지면 된다.  \n",
        "  \n",
        "\n",
        "1epoch : 훈련샘플을 1회 모두 써서 훈련하는 것  "
      ],
      "metadata": {
        "id": "vLY_bv51Hncv"
      }
    },
    {
      "cell_type": "markdown",
      "source": [
        "데이터 가져오기"
      ],
      "metadata": {
        "id": "45IBdYQ_JpcE"
      }
    },
    {
      "cell_type": "code",
      "source": [
        "from torchvision.datasets import MNIST\n",
        "from torchvision import transforms\n",
        "\n",
        "img_size = 28 #28*28임\n",
        "\n",
        "mnist_train = MNIST(\"./data\", train=True, download=True, transform=transforms.ToTensor())\n",
        "mnist_test = MNIST(\"./data\", train=False, download=True, transform=transforms.ToTensor())\n",
        "\n",
        "print(f\"훈련 데이터의 수:{len(mnist_train)}, 테스트 데이터의 수:{len(mnist_test)}\")"
      ],
      "metadata": {
        "colab": {
          "base_uri": "https://localhost:8080/"
        },
        "id": "8VbDVUL5JpFA",
        "outputId": "d783f0dc-4851-4bba-c1b5-50c705526ec1"
      },
      "execution_count": 2,
      "outputs": [
        {
          "output_type": "stream",
          "name": "stdout",
          "text": [
            "Downloading http://yann.lecun.com/exdb/mnist/train-images-idx3-ubyte.gz\n",
            "Failed to download (trying next):\n",
            "HTTP Error 403: Forbidden\n",
            "\n",
            "Downloading https://ossci-datasets.s3.amazonaws.com/mnist/train-images-idx3-ubyte.gz\n",
            "Downloading https://ossci-datasets.s3.amazonaws.com/mnist/train-images-idx3-ubyte.gz to ./data/MNIST/raw/train-images-idx3-ubyte.gz\n"
          ]
        },
        {
          "output_type": "stream",
          "name": "stderr",
          "text": [
            "100%|██████████| 9912422/9912422 [00:02<00:00, 4586711.16it/s]\n"
          ]
        },
        {
          "output_type": "stream",
          "name": "stdout",
          "text": [
            "Extracting ./data/MNIST/raw/train-images-idx3-ubyte.gz to ./data/MNIST/raw\n",
            "\n",
            "Downloading http://yann.lecun.com/exdb/mnist/train-labels-idx1-ubyte.gz\n",
            "Failed to download (trying next):\n",
            "HTTP Error 403: Forbidden\n",
            "\n",
            "Downloading https://ossci-datasets.s3.amazonaws.com/mnist/train-labels-idx1-ubyte.gz\n",
            "Downloading https://ossci-datasets.s3.amazonaws.com/mnist/train-labels-idx1-ubyte.gz to ./data/MNIST/raw/train-labels-idx1-ubyte.gz\n"
          ]
        },
        {
          "output_type": "stream",
          "name": "stderr",
          "text": [
            "100%|██████████| 28881/28881 [00:00<00:00, 65390.56it/s]\n"
          ]
        },
        {
          "output_type": "stream",
          "name": "stdout",
          "text": [
            "Extracting ./data/MNIST/raw/train-labels-idx1-ubyte.gz to ./data/MNIST/raw\n",
            "\n",
            "Downloading http://yann.lecun.com/exdb/mnist/t10k-images-idx3-ubyte.gz\n",
            "Failed to download (trying next):\n",
            "HTTP Error 403: Forbidden\n",
            "\n",
            "Downloading https://ossci-datasets.s3.amazonaws.com/mnist/t10k-images-idx3-ubyte.gz\n",
            "Downloading https://ossci-datasets.s3.amazonaws.com/mnist/t10k-images-idx3-ubyte.gz to ./data/MNIST/raw/t10k-images-idx3-ubyte.gz\n"
          ]
        },
        {
          "output_type": "stream",
          "name": "stderr",
          "text": [
            "100%|██████████| 1648877/1648877 [00:01<00:00, 1088400.13it/s]\n"
          ]
        },
        {
          "output_type": "stream",
          "name": "stdout",
          "text": [
            "Extracting ./data/MNIST/raw/t10k-images-idx3-ubyte.gz to ./data/MNIST/raw\n",
            "\n",
            "Downloading http://yann.lecun.com/exdb/mnist/t10k-labels-idx1-ubyte.gz\n",
            "Failed to download (trying next):\n",
            "HTTP Error 403: Forbidden\n",
            "\n",
            "Downloading https://ossci-datasets.s3.amazonaws.com/mnist/t10k-labels-idx1-ubyte.gz\n",
            "Downloading https://ossci-datasets.s3.amazonaws.com/mnist/t10k-labels-idx1-ubyte.gz to ./data/MNIST/raw/t10k-labels-idx1-ubyte.gz\n"
          ]
        },
        {
          "output_type": "stream",
          "name": "stderr",
          "text": [
            "100%|██████████| 4542/4542 [00:00<00:00, 4364382.31it/s]"
          ]
        },
        {
          "output_type": "stream",
          "name": "stdout",
          "text": [
            "Extracting ./data/MNIST/raw/t10k-labels-idx1-ubyte.gz to ./data/MNIST/raw\n",
            "\n",
            "훈련 데이터의 수:60000, 테스트 데이터의 수:10000\n"
          ]
        },
        {
          "output_type": "stream",
          "name": "stderr",
          "text": [
            "\n"
          ]
        }
      ]
    },
    {
      "cell_type": "markdown",
      "source": [
        "DataLoader 설정"
      ],
      "metadata": {
        "id": "mBflUoXHLIwH"
      }
    },
    {
      "cell_type": "code",
      "source": [
        "from torch.utils.data import DataLoader\n",
        "\n",
        "\n",
        "#batch_size = 1 #online\n",
        "batch_size = 256 #mini batch\n",
        "\n",
        "train_loader = DataLoader(mnist_train, batch_size = batch_size, shuffle = True)\n",
        "test_loader = DataLoader(mnist_test, batch_size = batch_size, shuffle = False)\n",
        "\n",
        "# #batch\n",
        "# train_loader = DataLoader(mnist_train, batch_size = len(mnist_train), shuffle = True)\n",
        "# test_loader = DataLoader(mnist_test, batch_size = len(mnist_test), shuffle = False)"
      ],
      "metadata": {
        "id": "BFhZC9ZsLEaZ"
      },
      "execution_count": 31,
      "outputs": []
    },
    {
      "cell_type": "markdown",
      "source": [
        "모델 구축"
      ],
      "metadata": {
        "id": "f2rQc8u6MnyM"
      }
    },
    {
      "cell_type": "code",
      "source": [
        "import torch.nn as nn\n",
        "\n",
        "class Net(nn.Module):\n",
        "\n",
        "  def __init__(self):\n",
        "    super().__init__()\n",
        "    self.fc1 = nn.Linear(img_size*img_size, 1024)\n",
        "    self.fc2 = nn.Linear(1024, 512)\n",
        "    self.fc3 = nn.Linear(512, 10)\n",
        "    self.relu = nn.ReLU() #하나만 있으면 된다.(재활용 해도 됨)\n",
        "\n",
        "  def forward(self, x):\n",
        "    x = x.view(-1, img_size * img_size) #(배치크기 ,픽셀 수) 모양으로 만듦\n",
        "    x = self.relu(self.fc1(x))\n",
        "    x= self.relu(self.fc2(x))\n",
        "    x = self.fc3(x) #선형 계산 결과를 그대로 내보냄\n",
        "    return x"
      ],
      "metadata": {
        "id": "2WkMDOayMnSD"
      },
      "execution_count": 32,
      "outputs": []
    },
    {
      "cell_type": "code",
      "source": [
        "net = Net()\n",
        "net.cuda() #모델 파라미터를 gpu로\n",
        "print(net)"
      ],
      "metadata": {
        "colab": {
          "base_uri": "https://localhost:8080/"
        },
        "id": "mC7bOHnSQvXy",
        "outputId": "6e3969a5-18dc-4aca-a446-a4295acbab46"
      },
      "execution_count": 33,
      "outputs": [
        {
          "output_type": "stream",
          "name": "stdout",
          "text": [
            "Net(\n",
            "  (fc1): Linear(in_features=784, out_features=1024, bias=True)\n",
            "  (fc2): Linear(in_features=1024, out_features=512, bias=True)\n",
            "  (fc3): Linear(in_features=512, out_features=10, bias=True)\n",
            "  (relu): ReLU()\n",
            ")\n"
          ]
        }
      ]
    },
    {
      "cell_type": "markdown",
      "source": [
        "optimizer, loss function 생성"
      ],
      "metadata": {
        "id": "V3PEfn-KRZrs"
      }
    },
    {
      "cell_type": "code",
      "source": [
        "from torch import optim\n",
        "\n",
        "loss_fnc = nn.CrossEntropyLoss()\n",
        "optimizer = optim.SGD(net.parameters(), lr = 0.01)"
      ],
      "metadata": {
        "id": "bld48EeORXZ3"
      },
      "execution_count": 34,
      "outputs": []
    },
    {
      "cell_type": "markdown",
      "source": [
        "학습"
      ],
      "metadata": {
        "id": "evUN4qdbRvLJ"
      }
    },
    {
      "cell_type": "code",
      "source": [
        "num_epochs = 10\n",
        "record_loss_train = []\n",
        "record_loss_test = []\n",
        "\n",
        "for i in range(num_epochs):\n",
        "  net.train() #훈련 모드로\n",
        "  loss_train = 0 #현재 에포크의 손실 합\n",
        "\n",
        "  for j, (x, t) in enumerate(train_loader):\n",
        "    optimizer.zero_grad() #local gradient 초기화\n",
        "    x,t = x.cuda(), t.cuda() #각 학습 데이터들을 gpu로\n",
        "    y = net(x)\n",
        "    loss = loss_fnc(y, t)\n",
        "    loss.backward()\n",
        "    optimizer.step()\n",
        "    loss_train += loss.item()\n",
        "\n",
        "  loss_train /= j+1 #평균 손실구함\n",
        "  record_loss_train.append(loss_train)\n",
        "\n",
        "  net.eval() #평가 모드로\n",
        "  loss_test = 0\n",
        "\n",
        "  for j, (x,t) in enumerate(test_loader):\n",
        "    x, t = x.cuda(), t.cuda()\n",
        "    y = net(x)\n",
        "    loss = loss_fnc(y, t)\n",
        "    loss_test += loss.item()\n",
        "\n",
        "  loss_test /= j+1\n",
        "  record_loss_test.append(loss_test)\n",
        "\n",
        "  #중간 보고\n",
        "\n",
        "  if i%(num_epochs/10) == 0:\n",
        "    print(f\"Epoch:{i}, Loss_Train:{loss_train}, Loss_test:{loss_test}\")"
      ],
      "metadata": {
        "colab": {
          "base_uri": "https://localhost:8080/"
        },
        "id": "tg_dG8o_RusX",
        "outputId": "85124e3c-d55e-4c48-9997-3a95fada5f58"
      },
      "execution_count": 35,
      "outputs": [
        {
          "output_type": "stream",
          "name": "stdout",
          "text": [
            "Epoch:0, Loss_Train:2.213699056747112, Loss_test:2.079523652791977\n",
            "Epoch:1, Loss_Train:1.8018391659919253, Loss_test:1.4068626850843429\n",
            "Epoch:2, Loss_Train:1.0950396025434452, Loss_test:0.8202848918735981\n",
            "Epoch:3, Loss_Train:0.7174965891432254, Loss_test:0.5965553671121597\n",
            "Epoch:4, Loss_Train:0.5626373288479257, Loss_test:0.4925804764032364\n",
            "Epoch:5, Loss_Train:0.48245599827867874, Loss_test:0.4339103167876601\n",
            "Epoch:6, Loss_Train:0.435105732527185, Loss_test:0.3959531167522073\n",
            "Epoch:7, Loss_Train:0.4036256229623835, Loss_test:0.3701112765818834\n",
            "Epoch:8, Loss_Train:0.3798787590037001, Loss_test:0.3503937343135476\n",
            "Epoch:9, Loss_Train:0.36227657141837666, Loss_test:0.3362560668960214\n"
          ]
        }
      ]
    },
    {
      "cell_type": "markdown",
      "source": [
        "오차 추이"
      ],
      "metadata": {
        "id": "3LaXs4_oXU-p"
      }
    },
    {
      "cell_type": "code",
      "source": [
        "import matplotlib.pyplot as plt\n",
        "\n",
        "plt.plot(range(len(record_loss_train)), record_loss_train, label = \"Train\")\n",
        "plt.plot(range(len(record_loss_test)),record_loss_test, label = \"Test\")\n",
        "plt.legend()\n",
        "\n",
        "plt.xlabel(\"Epochs\")\n",
        "plt.ylabel(\"Error\")\n",
        "plt.show()"
      ],
      "metadata": {
        "colab": {
          "base_uri": "https://localhost:8080/",
          "height": 449
        },
        "id": "mmSjsRwrXTnO",
        "outputId": "977b3bf4-02f9-4c72-e6c6-098f34d3cae3"
      },
      "execution_count": 36,
      "outputs": [
        {
          "output_type": "display_data",
          "data": {
            "text/plain": [
              "<Figure size 640x480 with 1 Axes>"
            ],
            "image/png": "[encoded data removed]"
          },
          "metadata": {}
        }
      ]
    },
    {
      "cell_type": "markdown",
      "source": [
        "accuracy계산"
      ],
      "metadata": {
        "id": "vtkA5aciX1AI"
      }
    },
    {
      "cell_type": "code",
      "source": [
        "correct = 0\n",
        "total = 0\n",
        "net.eval() #평가모드\n",
        "\n",
        "for i, (x,t) in enumerate(test_loader):\n",
        "  x, t = x.cuda(), t.cuda()\n",
        "  y = net(x)\n",
        "  correct += (y.argmax(axis = 1) == t).sum().item()\n",
        "  total += len(x)\n",
        "\n",
        "print(f\"accuracy:{(correct/total)*100}%\")"
      ],
      "metadata": {
        "colab": {
          "base_uri": "https://localhost:8080/"
        },
        "id": "_d4KcbeoXy40",
        "outputId": "1ac447ad-1ca8-4041-9f7f-9499b4659ec8"
      },
      "execution_count": 37,
      "outputs": [
        {
          "output_type": "stream",
          "name": "stdout",
          "text": [
            "accuracy:90.42999999999999%\n"
          ]
        }
      ]
    }
  ]
}