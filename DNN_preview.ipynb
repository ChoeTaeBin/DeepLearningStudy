{
  "nbformat": 4,
  "nbformat_minor": 0,
  "metadata": {
    "colab": {
      "provenance": [],
      "authorship_tag": "ABX9TyNH3YdiFf1Grw1fNNgdx1BT",
      "include_colab_link": true
    },
    "kernelspec": {
      "name": "python3",
      "display_name": "Python 3"
    },
    "language_info": {
      "name": "python"
    }
  },
  "cells": [
    {
      "cell_type": "markdown",
      "metadata": {
        "id": "view-in-github",
        "colab_type": "text"
      },
      "source": [
        "<a href=\"https://colab.research.google.com/github/ChoeTaeBin/deep_learning_study/blob/master/DNN_preview.ipynb\" target=\"_parent\"><img src=\"https://colab.research.google.com/assets/colab-badge.svg\" alt=\"Open In Colab\"/></a>"
      ]
    },
    {
      "cell_type": "code",
      "source": [
        "import torch\n",
        "import matplotlib.pyplot as plt\n",
        "from sklearn import datasets"
      ],
      "metadata": {
        "id": "R7EK27uoD3d9"
      },
      "execution_count": 37,
      "outputs": []
    },
    {
      "cell_type": "markdown",
      "source": [
        "데이터 가져오기"
      ],
      "metadata": {
        "id": "IbSOcTQQkNp-"
      }
    },
    {
      "cell_type": "code",
      "source": [
        "digits_data = datasets.load_digits()"
      ],
      "metadata": {
        "id": "u-bV1nftkNa9"
      },
      "execution_count": 38,
      "outputs": []
    },
    {
      "cell_type": "code",
      "source": [
        "n_img = 10\n",
        "plt.figure(figsize=(10,4))\n",
        "for i in range(n_img):\n",
        "  ax = plt.subplot(2, 5, i+1)\n",
        "  ax.imshow(digits_data.data[i].reshape(8,8), cmap = \"Greys_r\")\n",
        "  ax.get_xaxis().set_visible(False)\n",
        "  ax.get_yaxis().set_visible(False)\n",
        "\n",
        "plt.show()\n",
        "\n",
        "print(\"data shape: \", digits_data.data.shape)\n",
        "print(\"label: \", digits_data.target[ : n_img])"
      ],
      "metadata": {
        "colab": {
          "base_uri": "https://localhost:8080/",
          "height": 314
        },
        "id": "PftTEsySkarx",
        "outputId": "41f056ad-c5f0-472d-d17e-27ee89302bb8"
      },
      "execution_count": 39,
      "outputs": [
        {
          "output_type": "display_data",
          "data": {
            "text/plain": [
              "<Figure size 1000x400 with 10 Axes>"
            ],
            "image/png": "[encoded data removed]"
          },
          "metadata": {}
        },
        {
          "output_type": "stream",
          "name": "stdout",
          "text": [
            "data shape:  (1797, 64)\n",
            "label:  [0 1 2 3 4 5 6 7 8 9]\n"
          ]
        }
      ]
    },
    {
      "cell_type": "markdown",
      "source": [
        "테스트 세트 분할"
      ],
      "metadata": {
        "id": "AWy4B0uhm2Eu"
      }
    },
    {
      "cell_type": "code",
      "source": [
        "from sklearn.model_selection import train_test_split\n",
        "\n",
        "digit_images = digits_data.data\n",
        "labels = digits_data.target\n",
        "\n",
        "X_train, X_test, y_train, y_test = train_test_split(digit_images, labels)\n",
        "\n",
        "#Tensor로 변환\n",
        "X_train = torch.tensor(X_train, dtype = torch.float32)\n",
        "y_train = torch.tensor(y_train, dtype = torch.int64)\n",
        "X_test = torch.tensor(X_test, dtype = torch.float32)\n",
        "y_test = torch.tensor(y_test, dtype = torch.int64)"
      ],
      "metadata": {
        "id": "e4iutQuZmiJ2"
      },
      "execution_count": 40,
      "outputs": []
    },
    {
      "cell_type": "markdown",
      "source": [
        "모델 구축"
      ],
      "metadata": {
        "id": "E2B9O_T6oDjs"
      }
    },
    {
      "cell_type": "code",
      "source": [
        "from torch import nn\n",
        "\n",
        "model = nn.Sequential(\n",
        "    nn.Linear(64, 32), #input이 64개 이므로\n",
        "    nn.ReLU(),\n",
        "    nn.Linear(32, 16),\n",
        "    nn.ReLU(),\n",
        "    nn.Linear(16, 10) #class가 10개이므로\n",
        ")\n",
        "print(model)"
      ],
      "metadata": {
        "colab": {
          "base_uri": "https://localhost:8080/"
        },
        "id": "QtJPLkFToDCY",
        "outputId": "c0d7e9ce-41b4-4b6a-f490-d0504c3432d7"
      },
      "execution_count": 41,
      "outputs": [
        {
          "output_type": "stream",
          "name": "stdout",
          "text": [
            "Sequential(\n",
            "  (0): Linear(in_features=64, out_features=32, bias=True)\n",
            "  (1): ReLU()\n",
            "  (2): Linear(in_features=32, out_features=16, bias=True)\n",
            "  (3): ReLU()\n",
            "  (4): Linear(in_features=16, out_features=10, bias=True)\n",
            ")\n"
          ]
        }
      ]
    },
    {
      "cell_type": "markdown",
      "source": [
        "optimizer, loss fuction 생성"
      ],
      "metadata": {
        "id": "-Q-L6aHCpN0G"
      }
    },
    {
      "cell_type": "code",
      "source": [
        "from torch import optim\n",
        "\n",
        "optimizer = optim.SGD(model.parameters(), lr = 0.01)\n",
        "loss_func = nn.CrossEntropyLoss() #자동으로 softmax를 통과시켜주고 타깃도 원핫 벡터로 만들어 준다."
      ],
      "metadata": {
        "id": "wqR32MWLpTv6"
      },
      "execution_count": 42,
      "outputs": []
    },
    {
      "cell_type": "markdown",
      "source": [
        "학습"
      ],
      "metadata": {
        "id": "pkiyuG0UpIp8"
      }
    },
    {
      "cell_type": "code",
      "source": [
        "num_epochs = 1000 #에포크 수 (모든 훈련데이터를 전부 사용하는 것이 1 에포크임)\n",
        "\n",
        "record_loss_train = []\n",
        "record_loss_test = []\n",
        "\n",
        "\n",
        "for i in range(num_epochs):\n",
        "  optimizer.zero_grad() #순전파 전에 local gradient를 0으로 초기화\n",
        "\n",
        "  #예측(순전파)\n",
        "  y_pred_train = model(X_train)\n",
        "  y_pred_test = model(X_test)\n",
        "\n",
        "  #손실 구하기\n",
        "  loss_train = loss_func(y_pred_train, y_train)\n",
        "  loss_test = loss_func(y_pred_test, y_test)\n",
        "\n",
        "  #back propagation\n",
        "  loss_train.backward()\n",
        "\n",
        "  #파라미터 갱신\n",
        "  optimizer.step()\n",
        "\n",
        "  #기록\n",
        "  record_loss_train.append(loss_train.item())\n",
        "  record_loss_test.append(loss_test.item())\n",
        "\n",
        "  #중간 보고\n",
        "  if i%100 == 0:\n",
        "    print(f\"Epoch:{i}\\tLoss_Train:{loss_train.item()}\\tLoss_Test:{loss_test.item()}\" )\n",
        "\n",
        "\n"
      ],
      "metadata": {
        "colab": {
          "base_uri": "https://localhost:8080/"
        },
        "id": "0uiqKXKYpHEk",
        "outputId": "ec09540e-f48a-47bb-c540-dc0ae8ff158f"
      },
      "execution_count": 43,
      "outputs": [
        {
          "output_type": "stream",
          "name": "stdout",
          "text": [
            "Epoch:0\tLoss_Train:2.951768398284912\tLoss_Test:2.9778101444244385\n",
            "Epoch:100\tLoss_Train:0.7060527205467224\tLoss_Test:0.7830742001533508\n",
            "Epoch:200\tLoss_Train:0.34593290090560913\tLoss_Test:0.41062313318252563\n",
            "Epoch:300\tLoss_Train:0.23009321093559265\tLoss_Test:0.29128286242485046\n",
            "Epoch:400\tLoss_Train:0.17364324629306793\tLoss_Test:0.2358708679676056\n",
            "Epoch:500\tLoss_Train:0.1405244767665863\tLoss_Test:0.20333854854106903\n",
            "Epoch:600\tLoss_Train:0.11862889677286148\tLoss_Test:0.18250085413455963\n",
            "Epoch:700\tLoss_Train:0.10289817303419113\tLoss_Test:0.16769874095916748\n",
            "Epoch:800\tLoss_Train:0.09060001373291016\tLoss_Test:0.1563740074634552\n",
            "Epoch:900\tLoss_Train:0.08050302416086197\tLoss_Test:0.1471099704504013\n"
          ]
        }
      ]
    },
    {
      "cell_type": "markdown",
      "source": [
        "오차 추이 관찰"
      ],
      "metadata": {
        "id": "G76Xj-H4uwXc"
      }
    },
    {
      "cell_type": "code",
      "source": [
        "plt.plot(range(len(record_loss_train)), record_loss_train, label = \"Train\")\n",
        "plt.plot(range(len(record_loss_test)),record_loss_test, label = \"Test\")\n",
        "plt.legend()\n",
        "\n",
        "plt.xlabel(\"Epochs\")\n",
        "plt.ylabel(\"Error\")\n",
        "plt.show()"
      ],
      "metadata": {
        "colab": {
          "base_uri": "https://localhost:8080/",
          "height": 449
        },
        "id": "VqPULyO0uwEN",
        "outputId": "4cc4fd4e-d885-475d-c440-7076af30d3b0"
      },
      "execution_count": 44,
      "outputs": [
        {
          "output_type": "display_data",
          "data": {
            "text/plain": [
              "<Figure size 640x480 with 1 Axes>"
            ],
            "image/png": "[encoded data removed]"
          },
          "metadata": {}
        }
      ]
    },
    {
      "cell_type": "markdown",
      "source": [
        "accuracy 계산"
      ],
      "metadata": {
        "id": "rArp67fzw6gt"
      }
    },
    {
      "cell_type": "code",
      "source": [
        "y_pred_test = model(X_test)\n",
        "count = (y_pred_test.argmax(axis = 1) == y_test).sum().item()\n",
        "print(f\"정답률:{(count/len(y_test))*100}%\")"
      ],
      "metadata": {
        "colab": {
          "base_uri": "https://localhost:8080/"
        },
        "id": "l5_61S_Fw8Nl",
        "outputId": "381c6a39-7967-4cf2-8e0b-16559dcafecd"
      },
      "execution_count": 45,
      "outputs": [
        {
          "output_type": "stream",
          "name": "stdout",
          "text": [
            "정답률:96.22222222222221%\n"
          ]
        }
      ]
    },
    {
      "cell_type": "markdown",
      "source": [
        "예측해보기"
      ],
      "metadata": {
        "id": "PJzHzc5rx_RO"
      }
    },
    {
      "cell_type": "code",
      "source": [
        "img_id = 0\n",
        "a_img = digit_images[img_id]\n",
        "plt.imshow(a_img.reshape(8, 8), cmap = \"Greys_r\")\n",
        "plt.show()\n",
        "\n",
        "a_img = torch.tensor(a_img, dtype = torch.float32)\n",
        "pred = model(a_img)\n",
        "print(f\"정답:{labels[img_id]} 예측결과:{pred.argmax().item()}\")\n"
      ],
      "metadata": {
        "colab": {
          "base_uri": "https://localhost:8080/",
          "height": 448
        },
        "id": "xMURu69HyCoe",
        "outputId": "834d5e05-b04e-4164-d2f6-0a7ef660186b"
      },
      "execution_count": 46,
      "outputs": [
        {
          "output_type": "display_data",
          "data": {
            "text/plain": [
              "<Figure size 640x480 with 1 Axes>"
            ],
            "image/png": "[encoded data removed]"
          },
          "metadata": {}
        },
        {
          "output_type": "stream",
          "name": "stdout",
          "text": [
            "정답:0 예측결과:0\n"
          ]
        }
      ]
    }
  ]
}