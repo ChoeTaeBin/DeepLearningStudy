{
  "nbformat": 4,
  "nbformat_minor": 0,
  "metadata": {
    "colab": {
      "provenance": [],
      "authorship_tag": "ABX9TyPMJogGy4jQLq9UjPxKOPfh",
      "include_colab_link": true
    },
    "kernelspec": {
      "name": "python3",
      "display_name": "Python 3"
    },
    "language_info": {
      "name": "python"
    }
  },
  "cells": [
    {
      "cell_type": "markdown",
      "metadata": {
        "id": "view-in-github",
        "colab_type": "text"
      },
      "source": [
        "<a href=\"https://colab.research.google.com/github/ChoeTaeBin/deep_learning_study/blob/master/Tensor_operation.ipynb\" target=\"_parent\"><img src=\"https://colab.research.google.com/assets/colab-badge.svg\" alt=\"Open In Colab\"/></a>"
      ]
    },
    {
      "cell_type": "code",
      "execution_count": 49,
      "metadata": {
        "id": "4S3NtFpImCKy"
      },
      "outputs": [],
      "source": [
        "import torch"
      ]
    },
    {
      "cell_type": "markdown",
      "source": [
        "pytorch의 기본 자료형은 Tensor이다."
      ],
      "metadata": {
        "id": "o5IW_w_7nUeh"
      }
    },
    {
      "cell_type": "code",
      "source": [
        "a = torch.tensor([1,2,3])\n",
        "print(a, type(a))"
      ],
      "metadata": {
        "colab": {
          "base_uri": "https://localhost:8080/"
        },
        "id": "EBnCl7eunKDo",
        "outputId": "ca837d2d-16b2-4ac8-a558-60ae265260b6"
      },
      "execution_count": 2,
      "outputs": [
        {
          "output_type": "stream",
          "name": "stdout",
          "text": [
            "tensor([1, 2, 3]) <class 'torch.Tensor'>\n"
          ]
        }
      ]
    },
    {
      "cell_type": "markdown",
      "source": [
        "Tensor 인스턴스를 생성하는 다양한 방법"
      ],
      "metadata": {
        "id": "lxEcQq15nd3t"
      }
    },
    {
      "cell_type": "code",
      "source": [
        "b = torch.tensor([[1, 2],\n",
        "                  [3, 4]])\n",
        "print(b)"
      ],
      "metadata": {
        "colab": {
          "base_uri": "https://localhost:8080/"
        },
        "id": "Plgi9j44nSML",
        "outputId": "ce743e14-07e6-4202-fbed-ff9096e5f1a4"
      },
      "execution_count": 3,
      "outputs": [
        {
          "output_type": "stream",
          "name": "stdout",
          "text": [
            "tensor([[1, 2],\n",
            "        [3, 4]])\n"
          ]
        }
      ]
    },
    {
      "cell_type": "code",
      "source": [
        "c = torch.tensor([[1, 2],\n",
        "                  [3, 4]], dtype = torch.float64)\n",
        "print(c)"
      ],
      "metadata": {
        "colab": {
          "base_uri": "https://localhost:8080/"
        },
        "id": "L_TFIdV-n1sT",
        "outputId": "41254eeb-30e6-4aa4-f1f0-b85ce3945480"
      },
      "execution_count": 5,
      "outputs": [
        {
          "output_type": "stream",
          "name": "stdout",
          "text": [
            "tensor([[1., 2.],\n",
            "        [3., 4.]], dtype=torch.float64)\n"
          ]
        }
      ]
    },
    {
      "cell_type": "code",
      "source": [
        "d = torch.arange(0, 10)\n",
        "print(d)"
      ],
      "metadata": {
        "colab": {
          "base_uri": "https://localhost:8080/"
        },
        "id": "L67fg3lhoFuj",
        "outputId": "484d053d-bf8e-43f4-f7b2-9ac9da09d8f2"
      },
      "execution_count": 6,
      "outputs": [
        {
          "output_type": "stream",
          "name": "stdout",
          "text": [
            "tensor([0, 1, 2, 3, 4, 5, 6, 7, 8, 9])\n"
          ]
        }
      ]
    },
    {
      "cell_type": "code",
      "source": [
        "e = torch.zeros(2, 3)\n",
        "print(e)"
      ],
      "metadata": {
        "colab": {
          "base_uri": "https://localhost:8080/"
        },
        "id": "NGjWprEroTuo",
        "outputId": "0bd08237-07bb-4647-84c9-0ac1f28c7b93"
      },
      "execution_count": 7,
      "outputs": [
        {
          "output_type": "stream",
          "name": "stdout",
          "text": [
            "tensor([[0., 0., 0.],\n",
            "        [0., 0., 0.]])\n"
          ]
        }
      ]
    },
    {
      "cell_type": "code",
      "source": [
        "f = torch.rand(2, 3)\n",
        "print(f)"
      ],
      "metadata": {
        "colab": {
          "base_uri": "https://localhost:8080/"
        },
        "id": "J0ztUWNfob4q",
        "outputId": "d5033deb-97f1-4dea-f4c6-ac9b2fea4501"
      },
      "execution_count": 9,
      "outputs": [
        {
          "output_type": "stream",
          "name": "stdout",
          "text": [
            "tensor([[0.5725, 0.1636, 0.7370],\n",
            "        [0.4240, 0.4729, 0.0772]])\n"
          ]
        }
      ]
    },
    {
      "cell_type": "markdown",
      "source": [
        "Tensor.size()"
      ],
      "metadata": {
        "id": "ObQA-_cZol1Q"
      }
    },
    {
      "cell_type": "code",
      "source": [
        "print(f.size())"
      ],
      "metadata": {
        "colab": {
          "base_uri": "https://localhost:8080/"
        },
        "id": "WVJ2S97yolSg",
        "outputId": "f70a15cc-3ffa-45fa-9272-ce3ceb866d8f"
      },
      "execution_count": 10,
      "outputs": [
        {
          "output_type": "stream",
          "name": "stdout",
          "text": [
            "torch.Size([2, 3])\n"
          ]
        }
      ]
    },
    {
      "cell_type": "markdown",
      "source": [
        "torch.linspace()"
      ],
      "metadata": {
        "id": "dxEK4gh4o0-b"
      }
    },
    {
      "cell_type": "code",
      "source": [
        "g = torch.linspace(-5, 5, 10)\n",
        "print(g)"
      ],
      "metadata": {
        "colab": {
          "base_uri": "https://localhost:8080/"
        },
        "id": "TguHMjgloyw0",
        "outputId": "8ae8ab98-67dc-4e07-d2d0-240800d72592"
      },
      "execution_count": 12,
      "outputs": [
        {
          "output_type": "stream",
          "name": "stdout",
          "text": [
            "tensor([-5.0000, -3.8889, -2.7778, -1.6667, -0.5556,  0.5556,  1.6667,  2.7778,\n",
            "         3.8889,  5.0000])\n"
          ]
        }
      ]
    },
    {
      "cell_type": "markdown",
      "source": [
        "numpy 배열과 상호 변환"
      ],
      "metadata": {
        "id": "Pr_yaCsypF7U"
      }
    },
    {
      "cell_type": "code",
      "source": [
        "a = torch.tensor([[1, 2],\n",
        "                  [3, 4.]])#모두 실수 타입으로 만들기 위해서 마지막 4 옆에 .을 찍어줌\n",
        "\n",
        "b = a.numpy() #Tensor -> numpy배열\n",
        "print(b, type(b))"
      ],
      "metadata": {
        "colab": {
          "base_uri": "https://localhost:8080/"
        },
        "id": "09oZ_LT-pFiH",
        "outputId": "81a5bf58-8e75-4bfb-e5ba-549b3f65c8d5"
      },
      "execution_count": 15,
      "outputs": [
        {
          "output_type": "stream",
          "name": "stdout",
          "text": [
            "[[1. 2.]\n",
            " [3. 4.]] <class 'numpy.ndarray'>\n"
          ]
        }
      ]
    },
    {
      "cell_type": "code",
      "source": [
        "c = torch.from_numpy(b) #numpy배열 -> Tensor\n",
        "print(c, type(c))"
      ],
      "metadata": {
        "colab": {
          "base_uri": "https://localhost:8080/"
        },
        "id": "4ELPQT8upkYi",
        "outputId": "889e3dc1-8215-4614-bdc9-674afd32559a"
      },
      "execution_count": 16,
      "outputs": [
        {
          "output_type": "stream",
          "name": "stdout",
          "text": [
            "tensor([[1., 2.],\n",
            "        [3., 4.]]) <class 'torch.Tensor'>\n"
          ]
        }
      ]
    },
    {
      "cell_type": "markdown",
      "source": [
        "numpy 배열처럼 indexing, slicing 가능"
      ],
      "metadata": {
        "id": "MQ2n8DLzqXNy"
      }
    },
    {
      "cell_type": "code",
      "source": [
        "a = torch.tensor([[1, 2, 3],\n",
        "                  [4, 5, 6]])"
      ],
      "metadata": {
        "id": "1Nzgc6-lqW2v"
      },
      "execution_count": 17,
      "outputs": []
    },
    {
      "cell_type": "code",
      "source": [
        "print(a[0, 1]) #0행 1열 출력"
      ],
      "metadata": {
        "colab": {
          "base_uri": "https://localhost:8080/"
        },
        "id": "JQdqlCBqq6pp",
        "outputId": "2eca76c7-6469-4e6a-de3f-dd84a89e80c9"
      },
      "execution_count": 18,
      "outputs": [
        {
          "output_type": "stream",
          "name": "stdout",
          "text": [
            "tensor(2)\n"
          ]
        }
      ]
    },
    {
      "cell_type": "code",
      "source": [
        "print(a[1:2, :2]) #슬라이싱 이용"
      ],
      "metadata": {
        "colab": {
          "base_uri": "https://localhost:8080/"
        },
        "id": "4cSI1XfzrEJc",
        "outputId": "2095c5e5-1ab6-4715-b94e-6c2ccb56393c"
      },
      "execution_count": 19,
      "outputs": [
        {
          "output_type": "stream",
          "name": "stdout",
          "text": [
            "tensor([[4, 5]])\n"
          ]
        }
      ]
    },
    {
      "cell_type": "code",
      "source": [
        "print(a[: , [0, 2]]) #리스트 이용"
      ],
      "metadata": {
        "colab": {
          "base_uri": "https://localhost:8080/"
        },
        "id": "4ITBgZWkrSgV",
        "outputId": "afe01995-26e3-4c36-b00a-7c0cac6390ad"
      },
      "execution_count": 20,
      "outputs": [
        {
          "output_type": "stream",
          "name": "stdout",
          "text": [
            "tensor([[1, 3],\n",
            "        [4, 6]])\n"
          ]
        }
      ]
    },
    {
      "cell_type": "code",
      "source": [
        "print(a[a>2]) #조건식 이용"
      ],
      "metadata": {
        "colab": {
          "base_uri": "https://localhost:8080/"
        },
        "id": "7ZRzCavnrhNo",
        "outputId": "35462fcd-e6a8-4e50-8cb7-ef4cf45b0909"
      },
      "execution_count": 21,
      "outputs": [
        {
          "output_type": "stream",
          "name": "stdout",
          "text": [
            "tensor([3, 4, 5, 6])\n"
          ]
        }
      ]
    },
    {
      "cell_type": "code",
      "source": [
        "#같은 방식으로 변경도 가능\n",
        "\n",
        "a[ : , : ] = 1\n",
        "print(a)"
      ],
      "metadata": {
        "colab": {
          "base_uri": "https://localhost:8080/"
        },
        "id": "_GIixMb0r1xV",
        "outputId": "3467e2c0-7da5-4881-f826-517c737d73f2"
      },
      "execution_count": 23,
      "outputs": [
        {
          "output_type": "stream",
          "name": "stdout",
          "text": [
            "tensor([[1, 1, 1],\n",
            "        [1, 1, 1]])\n"
          ]
        }
      ]
    },
    {
      "cell_type": "code",
      "source": [
        "a[a==1] = 0\n",
        "print(a)"
      ],
      "metadata": {
        "colab": {
          "base_uri": "https://localhost:8080/"
        },
        "id": "2yTywHNWsKN_",
        "outputId": "4710dbfe-014d-43d5-83bc-4df914fe1f3b"
      },
      "execution_count": 25,
      "outputs": [
        {
          "output_type": "stream",
          "name": "stdout",
          "text": [
            "tensor([[0, 0, 0],\n",
            "        [0, 0, 0]])\n"
          ]
        }
      ]
    },
    {
      "cell_type": "markdown",
      "source": [
        "Tensor 연산"
      ],
      "metadata": {
        "id": "t83K2I7guwlV"
      }
    },
    {
      "cell_type": "code",
      "source": [
        "#vector\n",
        "a = torch.tensor([1, 2, 3])\n",
        "b = torch.tensor([4, 5, 6])\n",
        "\n",
        "#matrix\n",
        "C = torch.tensor([[6, 5, 4],\n",
        "                  [3, 2, 1]])"
      ],
      "metadata": {
        "id": "nqa_JS_luiuC"
      },
      "execution_count": 26,
      "outputs": []
    },
    {
      "cell_type": "code",
      "source": [
        "print(a+3)"
      ],
      "metadata": {
        "colab": {
          "base_uri": "https://localhost:8080/"
        },
        "id": "P7ALPMxNvqR2",
        "outputId": "a27cdad7-adcf-47ed-aa83-7964f34d5c69"
      },
      "execution_count": 27,
      "outputs": [
        {
          "output_type": "stream",
          "name": "stdout",
          "text": [
            "tensor([4, 5, 6])\n"
          ]
        }
      ]
    },
    {
      "cell_type": "code",
      "source": [
        "print(a + b)"
      ],
      "metadata": {
        "colab": {
          "base_uri": "https://localhost:8080/"
        },
        "id": "MNc8_AoGvsKs",
        "outputId": "150df0e3-dc46-4c47-ff13-7b89175e7ad6"
      },
      "execution_count": 28,
      "outputs": [
        {
          "output_type": "stream",
          "name": "stdout",
          "text": [
            "tensor([5, 7, 9])\n"
          ]
        }
      ]
    },
    {
      "cell_type": "code",
      "source": [
        "print(C + 2)"
      ],
      "metadata": {
        "colab": {
          "base_uri": "https://localhost:8080/"
        },
        "id": "wayywGikvwcL",
        "outputId": "6876fb0f-d27f-4098-855f-ec6022f27664"
      },
      "execution_count": 29,
      "outputs": [
        {
          "output_type": "stream",
          "name": "stdout",
          "text": [
            "tensor([[8, 7, 6],\n",
            "        [5, 4, 3]])\n"
          ]
        }
      ]
    },
    {
      "cell_type": "code",
      "source": [
        "print(C + a)"
      ],
      "metadata": {
        "colab": {
          "base_uri": "https://localhost:8080/"
        },
        "id": "9fhI3uuvvysh",
        "outputId": "dcd15d68-1472-4f97-a3f3-5d741f2e682f"
      },
      "execution_count": 30,
      "outputs": [
        {
          "output_type": "stream",
          "name": "stdout",
          "text": [
            "tensor([[7, 7, 7],\n",
            "        [4, 4, 4]])\n"
          ]
        }
      ]
    },
    {
      "cell_type": "code",
      "source": [
        "print(C + C)"
      ],
      "metadata": {
        "colab": {
          "base_uri": "https://localhost:8080/"
        },
        "id": "M9Wz1oqnv9Y7",
        "outputId": "3145202c-8c9c-453e-e2a7-31a78e3a59a6"
      },
      "execution_count": 31,
      "outputs": [
        {
          "output_type": "stream",
          "name": "stdout",
          "text": [
            "tensor([[12, 10,  8],\n",
            "        [ 6,  4,  2]])\n"
          ]
        }
      ]
    },
    {
      "cell_type": "code",
      "source": [
        "a = torch.tensor([[1, 2, 3],\n",
        "                  [4, 5, 6]])\n",
        "b = torch.tensor([1, 2, 3])\n",
        "c = torch.tensor([[1],\n",
        "                  [2],\n",
        "                  [3]])"
      ],
      "metadata": {
        "id": "zE1Xj5710li7"
      },
      "execution_count": 51,
      "outputs": []
    },
    {
      "cell_type": "code",
      "source": [
        "d = a%b\n",
        "print(d)"
      ],
      "metadata": {
        "colab": {
          "base_uri": "https://localhost:8080/"
        },
        "id": "m2Ofp32L11QW",
        "outputId": "165ea889-9106-436e-c4b7-869554e4b12c"
      },
      "execution_count": 52,
      "outputs": [
        {
          "output_type": "stream",
          "name": "stdout",
          "text": [
            "tensor([[0, 0, 0],\n",
            "        [0, 1, 0]])\n"
          ]
        }
      ]
    },
    {
      "cell_type": "code",
      "source": [
        "e = a*b #성분끼리 곱\n",
        "print(e)"
      ],
      "metadata": {
        "colab": {
          "base_uri": "https://localhost:8080/"
        },
        "id": "iV-y-RVO2C1k",
        "outputId": "61703eb7-5d12-43f1-b239-a001c44ddd09"
      },
      "execution_count": 55,
      "outputs": [
        {
          "output_type": "stream",
          "name": "stdout",
          "text": [
            "tensor([[ 1,  4,  9],\n",
            "        [ 4, 10, 18]])\n"
          ]
        }
      ]
    },
    {
      "cell_type": "code",
      "source": [
        "f = a @ c #행렬곱\n",
        "print(f)"
      ],
      "metadata": {
        "colab": {
          "base_uri": "https://localhost:8080/"
        },
        "id": "pKBCMEBk2S6b",
        "outputId": "5844fce3-a066-4510-a657-58d42f8a993a"
      },
      "execution_count": 56,
      "outputs": [
        {
          "output_type": "stream",
          "name": "stdout",
          "text": [
            "tensor([[14],\n",
            "        [32]])\n"
          ]
        }
      ]
    },
    {
      "cell_type": "markdown",
      "source": [
        "Tensor 형태 변환"
      ],
      "metadata": {
        "id": "231TvD3UwCwt"
      }
    },
    {
      "cell_type": "code",
      "source": [
        "a = torch.arange(0, 8, 1)\n",
        "print(a)"
      ],
      "metadata": {
        "colab": {
          "base_uri": "https://localhost:8080/"
        },
        "id": "WncEfkqVwE7C",
        "outputId": "ec73f835-ad8c-44bf-88f0-d48f90cf1435"
      },
      "execution_count": 33,
      "outputs": [
        {
          "output_type": "stream",
          "name": "stdout",
          "text": [
            "tensor([0, 1, 2, 3, 4, 5, 6, 7])\n"
          ]
        }
      ]
    },
    {
      "cell_type": "code",
      "source": [
        "b = a.view(2, 4)\n",
        "print(b)"
      ],
      "metadata": {
        "colab": {
          "base_uri": "https://localhost:8080/"
        },
        "id": "XxhipcnYwcKi",
        "outputId": "d9d1e523-8f91-4dd8-8910-f5e5a8260e59"
      },
      "execution_count": 36,
      "outputs": [
        {
          "output_type": "stream",
          "name": "stdout",
          "text": [
            "tensor([[0, 1, 2, 3],\n",
            "        [4, 5, 6, 7]])\n"
          ]
        }
      ]
    },
    {
      "cell_type": "code",
      "source": [
        "c = a.view(4, -1)\n",
        "print(c)"
      ],
      "metadata": {
        "colab": {
          "base_uri": "https://localhost:8080/"
        },
        "id": "wnWSsyd1wkgw",
        "outputId": "4228c42c-96d1-4812-901d-7b5b8912363c"
      },
      "execution_count": 37,
      "outputs": [
        {
          "output_type": "stream",
          "name": "stdout",
          "text": [
            "tensor([[0, 1],\n",
            "        [2, 3],\n",
            "        [4, 5],\n",
            "        [6, 7]])\n"
          ]
        }
      ]
    },
    {
      "cell_type": "code",
      "source": [
        "d = c.view(-1) #1차원으로 펴기\n",
        "print(d)"
      ],
      "metadata": {
        "colab": {
          "base_uri": "https://localhost:8080/"
        },
        "id": "I-83816qwx2v",
        "outputId": "ffe1deb1-c58e-4694-b986-ad8a4c9eee69"
      },
      "execution_count": 38,
      "outputs": [
        {
          "output_type": "stream",
          "name": "stdout",
          "text": [
            "tensor([0, 1, 2, 3, 4, 5, 6, 7])\n"
          ]
        }
      ]
    },
    {
      "cell_type": "markdown",
      "source": [
        "Tensor.squeeze()  \n",
        "*요소 수가 1인 차원을 삭제한다.*"
      ],
      "metadata": {
        "id": "Bk11E0_hxXEM"
      }
    },
    {
      "cell_type": "code",
      "source": [
        "e = d.view(1,d.size()[0])\n",
        "print(e, e.size())"
      ],
      "metadata": {
        "colab": {
          "base_uri": "https://localhost:8080/"
        },
        "id": "dcsE1gfqxOgG",
        "outputId": "c97a7b8c-c058-4074-b58c-357e8ab2e702"
      },
      "execution_count": 42,
      "outputs": [
        {
          "output_type": "stream",
          "name": "stdout",
          "text": [
            "tensor([[0, 1, 2, 3, 4, 5, 6, 7]]) torch.Size([1, 8])\n"
          ]
        }
      ]
    },
    {
      "cell_type": "code",
      "source": [
        "f = e.squeeze()\n",
        "print(f, f.size())"
      ],
      "metadata": {
        "colab": {
          "base_uri": "https://localhost:8080/"
        },
        "id": "CBzAiK0KyFHG",
        "outputId": "7f22c634-f542-4aa7-f1ed-ef1691ad71a0"
      },
      "execution_count": 43,
      "outputs": [
        {
          "output_type": "stream",
          "name": "stdout",
          "text": [
            "tensor([0, 1, 2, 3, 4, 5, 6, 7]) torch.Size([8])\n"
          ]
        }
      ]
    },
    {
      "cell_type": "markdown",
      "source": [
        "Tensor.unsqueeze()"
      ],
      "metadata": {
        "id": "l3-DvDi8yyIq"
      }
    },
    {
      "cell_type": "code",
      "source": [
        "g = torch.tensor([[1, 2, 3, 4],\n",
        "                  [5, 6, 7, 8]])\n",
        "print(g, g.size())"
      ],
      "metadata": {
        "colab": {
          "base_uri": "https://localhost:8080/"
        },
        "id": "XyhbjKcjyxwg",
        "outputId": "d83b602a-0270-41dc-e49f-2f7d76e1d338"
      },
      "execution_count": 46,
      "outputs": [
        {
          "output_type": "stream",
          "name": "stdout",
          "text": [
            "tensor([[1, 2, 3, 4],\n",
            "        [5, 6, 7, 8]]) torch.Size([2, 4])\n"
          ]
        }
      ]
    },
    {
      "cell_type": "code",
      "source": [
        "h = g.unsqueeze(2) #2차원에 1을 추가 즉, (2,4) -> (2, 4, 1)\n",
        "print(h, h.size())"
      ],
      "metadata": {
        "colab": {
          "base_uri": "https://localhost:8080/"
        },
        "id": "vM97AvSRzfzH",
        "outputId": "eda5bc65-648c-4cfc-c123-d545fa577923"
      },
      "execution_count": 48,
      "outputs": [
        {
          "output_type": "stream",
          "name": "stdout",
          "text": [
            "tensor([[[1],\n",
            "         [2],\n",
            "         [3],\n",
            "         [4]],\n",
            "\n",
            "        [[5],\n",
            "         [6],\n",
            "         [7],\n",
            "         [8]]]) torch.Size([2, 4, 1])\n"
          ]
        }
      ]
    },
    {
      "cell_type": "markdown",
      "source": [
        "집계 함수"
      ],
      "metadata": {
        "id": "Y2TDSdcJ2drd"
      }
    },
    {
      "cell_type": "code",
      "source": [
        "a = torch.tensor([[1, 2, 3],\n",
        "                  [4, 5, 6.]])"
      ],
      "metadata": {
        "id": "C1cD3CU40ZUJ"
      },
      "execution_count": 63,
      "outputs": []
    },
    {
      "cell_type": "code",
      "source": [
        "m = a.mean()\n",
        "print(m, m.item())"
      ],
      "metadata": {
        "colab": {
          "base_uri": "https://localhost:8080/"
        },
        "id": "grrIMich2oLv",
        "outputId": "f6d71f75-4d63-42c2-f214-a6741a304a35"
      },
      "execution_count": 66,
      "outputs": [
        {
          "output_type": "stream",
          "name": "stdout",
          "text": [
            "tensor(3.5000) 3.5\n"
          ]
        }
      ]
    },
    {
      "cell_type": "code",
      "source": [
        "torch.mean(a)"
      ],
      "metadata": {
        "colab": {
          "base_uri": "https://localhost:8080/"
        },
        "id": "Ddn3Nmc73Mfn",
        "outputId": "7b393695-3a58-4af2-ab99-1affa5e8786b"
      },
      "execution_count": 67,
      "outputs": [
        {
          "output_type": "execute_result",
          "data": {
            "text/plain": [
              "tensor(3.5000)"
            ]
          },
          "metadata": {},
          "execution_count": 67
        }
      ]
    },
    {
      "cell_type": "code",
      "source": [
        "torch.sum(a), torch.max(a), torch.min(a), torch.var(a), torch.std(a)"
      ],
      "metadata": {
        "colab": {
          "base_uri": "https://localhost:8080/"
        },
        "id": "vPOF_VGh3Sp0",
        "outputId": "14800e93-ca19-4170-f61d-351718e9ecd5"
      },
      "execution_count": 68,
      "outputs": [
        {
          "output_type": "execute_result",
          "data": {
            "text/plain": [
              "(tensor(21.), tensor(6.), tensor(1.), tensor(3.5000), tensor(1.8708))"
            ]
          },
          "metadata": {},
          "execution_count": 68
        }
      ]
    }
  ]
}