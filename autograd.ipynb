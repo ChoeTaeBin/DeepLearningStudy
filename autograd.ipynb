{
  "nbformat": 4,
  "nbformat_minor": 0,
  "metadata": {
    "colab": {
      "provenance": [],
      "authorship_tag": "ABX9TyNgjiydPr8EBpr3MmXAsgbO",
      "include_colab_link": true
    },
    "kernelspec": {
      "name": "python3",
      "display_name": "Python 3"
    },
    "language_info": {
      "name": "python"
    }
  },
  "cells": [
    {
      "cell_type": "markdown",
      "metadata": {
        "id": "view-in-github",
        "colab_type": "text"
      },
      "source": [
        "<a href=\"https://colab.research.google.com/github/ChoeTaeBin/deep_learning_study/blob/master/autograd.ipynb\" target=\"_parent\"><img src=\"https://colab.research.google.com/assets/colab-badge.svg\" alt=\"Open In Colab\"/></a>"
      ]
    },
    {
      "cell_type": "code",
      "source": [
        "import torch"
      ],
      "metadata": {
        "id": "ZoGmxgWI8Mgc"
      },
      "execution_count": 1,
      "outputs": []
    },
    {
      "cell_type": "markdown",
      "source": [
        "Tensor의 requires_grad 속성을 True로 설정 하면, autograd기능을 이용할 수 있다.\n",
        "\n"
      ],
      "metadata": {
        "id": "Pq6plNad7yY1"
      }
    },
    {
      "cell_type": "code",
      "source": [
        "x = torch.ones(2, 3, requires_grad = True)\n",
        "print(x)"
      ],
      "metadata": {
        "colab": {
          "base_uri": "https://localhost:8080/"
        },
        "id": "VbLksbgH8LLe",
        "outputId": "a53a6dff-e013-4d71-c936-7ff1f12950f3"
      },
      "execution_count": 3,
      "outputs": [
        {
          "output_type": "stream",
          "name": "stdout",
          "text": [
            "tensor([[1., 1., 1.],\n",
            "        [1., 1., 1.]], requires_grad=True)\n"
          ]
        }
      ]
    },
    {
      "cell_type": "markdown",
      "source": [
        "requires_grad == True 성질은 유전 된다. 즉, x를 통해 만든 y도 requires_grad == True가 된다.  \n",
        "또 자신을 만든 연산의 역연산을 grad_fn에 기록해둔다. 이는 back propagation에 이용하기 위함이다.  "
      ],
      "metadata": {
        "id": "c4Jb1W-d8aId"
      }
    },
    {
      "cell_type": "code",
      "source": [
        "y = x + 2\n",
        "print(y)\n",
        "print(f\"y.requires_grad:{ y.requires_grad}\")"
      ],
      "metadata": {
        "colab": {
          "base_uri": "https://localhost:8080/"
        },
        "id": "aBr9VQTv8YiG",
        "outputId": "c6742a16-92e6-4d17-c160-4dd35b63b7ec"
      },
      "execution_count": 7,
      "outputs": [
        {
          "output_type": "stream",
          "name": "stdout",
          "text": [
            "tensor([[3., 3., 3.],\n",
            "        [3., 3., 3.]], grad_fn=<AddBackward0>)\n",
            "y.requires_grad:True\n"
          ]
        }
      ]
    },
    {
      "cell_type": "code",
      "source": [
        "z = y.mean()\n",
        "print(z)\n",
        "print(f\"z.requires_grad:{ z.requires_grad}\")\n"
      ],
      "metadata": {
        "colab": {
          "base_uri": "https://localhost:8080/"
        },
        "id": "khm1Olkd-uVx",
        "outputId": "70af9a21-41ea-498f-9920-223fd3381744"
      },
      "execution_count": 11,
      "outputs": [
        {
          "output_type": "stream",
          "name": "stdout",
          "text": [
            "tensor(3., grad_fn=<MeanBackward0>)\n",
            "z.requires_grad:True\n"
          ]
        }
      ]
    },
    {
      "cell_type": "markdown",
      "source": [
        "z.backward() 는 z로 부터 back propagation을 한다는 이야기이다. 이때 z는 스칼라여야 한다.  \n",
        "\n",
        "이후 x.grad에는 z를 x로 미분한 값이 저장된다.   \n",
        "맨 처음 시작점이 아니므로 y.grad는 저장되지 않는다."
      ],
      "metadata": {
        "id": "szvQDLNr9zvx"
      }
    },
    {
      "cell_type": "code",
      "source": [
        "z.backward()"
      ],
      "metadata": {
        "id": "TzRPYndM9nsB"
      },
      "execution_count": 15,
      "outputs": []
    },
    {
      "cell_type": "code",
      "source": [
        "x.grad"
      ],
      "metadata": {
        "colab": {
          "base_uri": "https://localhost:8080/"
        },
        "id": "HEXGp8RhAS55",
        "outputId": "276374ac-6f64-4e5a-e6ac-23c657a0e3d6"
      },
      "execution_count": 16,
      "outputs": [
        {
          "output_type": "execute_result",
          "data": {
            "text/plain": [
              "tensor([[0.3333, 0.3333, 0.3333],\n",
              "        [0.3333, 0.3333, 0.3333]])"
            ]
          },
          "metadata": {},
          "execution_count": 16
        }
      ]
    },
    {
      "cell_type": "markdown",
      "source": [
        "조금더 복잡한 연산을 정의하여 사용 해 보고 back propagation이 잘 작동하는지 확인 해 보자"
      ],
      "metadata": {
        "id": "2oUudS3hAXNF"
      }
    },
    {
      "cell_type": "code",
      "source": [
        "def calc(a):\n",
        "  b = a*2 + 1\n",
        "  c = b*b\n",
        "  d = c/(c+2)\n",
        "  e = d.mean()\n",
        "  return e"
      ],
      "metadata": {
        "id": "t5U_2_GDAWyx"
      },
      "execution_count": 20,
      "outputs": []
    },
    {
      "cell_type": "code",
      "source": [
        "x = torch.tensor([1., 2., 3.], requires_grad = True)\n",
        "y = calc(x)\n",
        "y.backward()\n",
        "print(x.grad)"
      ],
      "metadata": {
        "colab": {
          "base_uri": "https://localhost:8080/"
        },
        "id": "5EKnQVd5AwO2",
        "outputId": "a26d51bc-f4ce-4b40-f427-1da462f7f8f8"
      },
      "execution_count": 23,
      "outputs": [
        {
          "output_type": "stream",
          "name": "stdout",
          "text": [
            "tensor([0.0661, 0.0183, 0.0072])\n"
          ]
        }
      ]
    },
    {
      "cell_type": "markdown",
      "source": [
        "검증"
      ],
      "metadata": {
        "id": "RWp4wBo4BPYa"
      }
    },
    {
      "cell_type": "code",
      "source": [
        "delta = 0.001\n",
        "\n",
        "y = calc(torch.tensor([1.0, 2.0, 3.0]))\n",
        "\n",
        "y_1 = calc(torch.tensor([1.0 + delta, 2.0, 3.0]))\n",
        "y_2 = calc(torch.tensor([1.0, 2.0 + delta, 3.0]))\n",
        "y_3 = calc(torch.tensor([1.0, 2.0, 3.0 + delta]))\n",
        "\n",
        "torch.stack(((y_1-y)/delta, (y_2-y)/delta, (y_3-y)/delta))"
      ],
      "metadata": {
        "colab": {
          "base_uri": "https://localhost:8080/"
        },
        "id": "KGVG_uQHBRBo",
        "outputId": "891f3637-53c0-4cc9-c113-13d7fbdf7713"
      },
      "execution_count": 33,
      "outputs": [
        {
          "output_type": "execute_result",
          "data": {
            "text/plain": [
              "tensor([0.0660, 0.0183, 0.0072])"
            ]
          },
          "metadata": {},
          "execution_count": 33
        }
      ]
    },
    {
      "cell_type": "markdown",
      "source": [
        "거의 같은 값을 보이므로 미분값을 잘 계산한다고 볼 수 있다."
      ],
      "metadata": {
        "id": "gaixT_WcDW39"
      }
    }
  ]
}