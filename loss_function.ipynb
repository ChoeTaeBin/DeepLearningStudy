{
  "nbformat": 4,
  "nbformat_minor": 0,
  "metadata": {
    "colab": {
      "provenance": [],
      "authorship_tag": "ABX9TyPb54sJe0oNQvD/pWcfy8P1",
      "include_colab_link": true
    },
    "kernelspec": {
      "name": "python3",
      "display_name": "Python 3"
    },
    "language_info": {
      "name": "python"
    }
  },
  "cells": [
    {
      "cell_type": "markdown",
      "metadata": {
        "id": "view-in-github",
        "colab_type": "text"
      },
      "source": [
        "<a href=\"https://colab.research.google.com/github/ChoeTaeBin/deep_learning_study/blob/master/loss_function.ipynb\" target=\"_parent\"><img src=\"https://colab.research.google.com/assets/colab-badge.svg\" alt=\"Open In Colab\"/></a>"
      ]
    },
    {
      "cell_type": "code",
      "source": [
        "import torch"
      ],
      "metadata": {
        "id": "QgfcdYMDLGdp"
      },
      "execution_count": 2,
      "outputs": []
    },
    {
      "cell_type": "markdown",
      "source": [
        "#Mean Squared Error"
      ],
      "metadata": {
        "id": "gbo6dkVzMJnm"
      }
    },
    {
      "cell_type": "markdown",
      "source": [
        "$$\\text{MSE} = \\frac{1}{n} \\sum_{i=1}^{n} (y_i - \\hat{y}_i)^2$$\n"
      ],
      "metadata": {
        "id": "ORzZFxIQKuKW"
      }
    },
    {
      "cell_type": "code",
      "source": [
        "from torch import nn\n",
        "\n",
        "y = torch.tensor([3, 3, 3, 3, 3.])\n",
        "y_hat = torch.tensor([1, 2, 3, 4, 5.])\n",
        "\n",
        "loss_func = nn.MSELoss()\n",
        "loss = loss_func(y, y_hat)\n",
        "print(loss.item())"
      ],
      "metadata": {
        "colab": {
          "base_uri": "https://localhost:8080/"
        },
        "id": "YumxWArFKxL5",
        "outputId": "fde50758-983a-4d8c-803d-6f2d3011a637"
      },
      "execution_count": 3,
      "outputs": [
        {
          "output_type": "stream",
          "name": "stdout",
          "text": [
            "2.0\n"
          ]
        }
      ]
    },
    {
      "cell_type": "markdown",
      "source": [
        "#Cross Entropy Loss  \n",
        "주로 classification에서 사용"
      ],
      "metadata": {
        "id": "Ty1nJONzMOLh"
      }
    },
    {
      "cell_type": "markdown",
      "source": [
        "$$\\text{CEL} = -\\sum_{i=1}^{n} \\sum_{k=1}^{C} y_{ik} \\log(\\hat{y}_{ik})$$"
      ],
      "metadata": {
        "id": "d_m2RylFRd0t"
      }
    },
    {
      "cell_type": "code",
      "source": [
        "h = torch.tensor([[1, 2, 3],  #샘플 1에대한 hidden 출력\n",
        "                  [3, 1, 2.]])#샘플 2에대한 hidden 출력\n",
        "\n",
        "y = torch.tensor([2, #샘플 1의 정체 yi = [0, 0 , 1]로 만듦\n",
        "                  0]) #샘플 2의 정체\n",
        "\n",
        "loss_func = nn.CrossEntropyLoss() #softmax + crossentropy 역할을 모두 함\n",
        "\n",
        "loss = loss_func(h, y)\n",
        "print(loss.item())"
      ],
      "metadata": {
        "colab": {
          "base_uri": "https://localhost:8080/"
        },
        "id": "vGc1KSKrMAoI",
        "outputId": "4687c007-f544-4c0c-d912-5ea2a58926bb"
      },
      "execution_count": 4,
      "outputs": [
        {
          "output_type": "stream",
          "name": "stdout",
          "text": [
            "0.40760600566864014\n"
          ]
        }
      ]
    }
  ]
}